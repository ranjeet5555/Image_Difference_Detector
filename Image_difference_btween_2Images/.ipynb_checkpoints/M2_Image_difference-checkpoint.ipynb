{
 "cells": [
  {
   "cell_type": "code",
   "execution_count": null,
   "id": "76904396-cc6e-468c-97d9-4215245da25f",
   "metadata": {},
   "outputs": [],
   "source": [
    "# Import packages\n",
    "import cv2\n",
    "import imutils\n",
    "import numpy as np\n",
    "\n",
    "# Load the two images\n",
    "img1 = cv2.imread('camels1.jpg')\n",
    "img2 = cv2.imread('camels2.jpg')\n",
    "# Resize images if necessary\n",
    "img1 = cv2.resize(img1, (600,360))\n",
    "img2 = cv2.resize(img2, (600,360))\n",
    "\n",
    "img_height = img1.shape[0]\n",
    "\n",
    "# Grayscale\n",
    "gray1 = cv2.cvtColor(img1, cv2.COLOR_BGR2GRAY)\n",
    "gray2 = cv2.cvtColor(img2, cv2.COLOR_BGR2GRAY)\n",
    "\n",
    "# Find the difference between the two images\n",
    "# Calculate absolute difference between two arrays \n",
    "diff = cv2.absdiff(gray1, gray2)\n",
    "cv2.imshow(\"diff(img1, img2)\", diff)\n",
    "\n",
    "# Apply threshold. Apply both THRESH_BINARY and THRESH_OTSU\n",
    "thresh = cv2.threshold(diff, 0, 255, cv2.THRESH_BINARY | cv2.THRESH_OTSU)[1]\n",
    "cv2.imshow(\"Threshold\", thresh)\n",
    "\n",
    "# Dilation\n",
    "kernel = np.ones((5,5), np.uint8) \n",
    "dilate = cv2.dilate(thresh, kernel, iterations=2) \n",
    "cv2.imshow(\"Dilate\", dilate)\n",
    "\n",
    "# Calculate contours\n",
    "contours = cv2.findContours(dilate.copy(), cv2.RETR_EXTERNAL, cv2.CHAIN_APPROX_SIMPLE)\n",
    "contours = imutils.grab_contours(contours)\n",
    "\n",
    "for contour in contours:\n",
    "    if cv2.contourArea(contour) > 100:\n",
    "        # Calculate bounding box around contour\n",
    "        x, y, w, h = cv2.boundingRect(contour)\n",
    "        # Draw rectangle - bounding box on both images\n",
    "        cv2.rectangle(img1, (x, y), (x+w, y+h), (0,0,255), 2)\n",
    "        cv2.rectangle(img2, (x, y), (x+w, y+h), (0,0,255), 2)\n",
    "\n",
    "# Show images with rectangles on differences\n",
    "x = np.zeros((img_height,10,3), np.uint8)\n",
    "result = np.hstack((img1, x, img2))\n",
    "cv2.imshow(\"Differences\", result)\n",
    "\n",
    "cv2.waitKey(0)\n",
    "cv2.destroyAllWindows()"
   ]
  },
  {
   "cell_type": "code",
   "execution_count": null,
   "id": "4a0a0c1e-b2df-4a56-9d27-66da1c5bf113",
   "metadata": {},
   "outputs": [],
   "source": []
  }
 ],
 "metadata": {
  "kernelspec": {
   "display_name": "Python 3 (ipykernel)",
   "language": "python",
   "name": "python3"
  },
  "language_info": {
   "codemirror_mode": {
    "name": "ipython",
    "version": 3
   },
   "file_extension": ".py",
   "mimetype": "text/x-python",
   "name": "python",
   "nbconvert_exporter": "python",
   "pygments_lexer": "ipython3",
   "version": "3.11.5"
  }
 },
 "nbformat": 4,
 "nbformat_minor": 5
}
